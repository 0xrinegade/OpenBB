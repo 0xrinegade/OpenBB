{
 "cells": [
  {
   "attachments": {},
   "cell_type": "markdown",
   "metadata": {},
   "source": [
    "# Historical Prices With the OpenBB Platform\n",
    "\n",
    "This notebook demonstrates some of the ways to approach loading historical price data using the OpenBB Platform.  The action is in the Equity module; but first, we need to initialize the notebook with the import statements block.\n",
    "\n",
    "## Import Statements"
   ]
  },
  {
   "cell_type": "code",
   "execution_count": null,
   "metadata": {},
   "outputs": [],
   "source": [
    "from datetime import datetime, timedelta\n",
    "\n",
    "import pandas as pd\n",
    "from openbb import obb\n"
   ]
  },
  {
   "attachments": {},
   "cell_type": "markdown",
   "metadata": {},
   "source": [
    "## The Equity Module\n",
    "\n",
    "Historical market prices typically come in the form of OHLC+V - open, high, low, close, volume.  There may be additional fields returned by a provider, but those are the expected columns.  Granularity and amount of historical data will vary by provider and subscription status.  Visit their websites to understand what your entitlements are.\n",
    "\n",
    "### openbb.equity.price.historical()\n",
    "\n",
    "- This endpoint has the most number of providers out of any function. At the time of writing, choices are:\n",
    "\n",
    "['alpha_vantage', 'cboe', 'fmp', 'intrinio', 'polygon', 'tiingo', 'yfinance']\n",
    "\n",
    "- Common parameters have been standardized across all souces, `start_date`, `end_date`, `interval`.\n",
    "\n",
    "- The default interval will be `1d`.\n",
    "\n",
    "- The depth of historical data and choices for granularity will vary by provider and subscription status.  Refer to the website and documentation of each source understand your specific entitlements.\n",
    "\n",
    "- For demonstration purposes, we will use the `openbb-yfinance` data extension."
   ]
  },
  {
   "cell_type": "code",
   "execution_count": null,
   "metadata": {},
   "outputs": [],
   "source": [
    "df_daily = obb.equity.price.historical(symbol = \"spy\", provider=\"yfinance\")\n",
    "df_daily.to_df().head(1)\n"
   ]
  },
  {
   "attachments": {},
   "cell_type": "markdown",
   "metadata": {},
   "source": [
    "To load the entire history available from a source, pick a starting date well beyond what it might be. For example, `1900-01-01`"
   ]
  },
  {
   "cell_type": "code",
   "execution_count": null,
   "metadata": {},
   "outputs": [],
   "source": [
    "df_daily = obb.equity.price.historical(symbol = \"spy\", start_date = \"1990-01-01\", provider=\"yfinance\").to_df()\n",
    "df_daily.head(1)\n"
   ]
  },
  {
   "cell_type": "markdown",
   "metadata": {},
   "source": [
    "#### Intervals\n",
    "\n",
    "The intervals are entered according to this pattern:\n",
    "\n",
    "- `1m` = One Minute\n",
    "- `1h` = One Hour\n",
    "- `1d` = One Day\n",
    "- `1W` = One Week\n",
    "- `1M` = One Month\n",
    "\n",
    "The date for monthly value is the first or last, depending on the provider.  This can be easily resampled from daily data."
   ]
  },
  {
   "cell_type": "code",
   "execution_count": null,
   "metadata": {},
   "outputs": [],
   "source": [
    "df_monthly = obb.equity.price.historical(\"spy\", start_date=\"1990-01-01\", interval=\"1M\", provider=\"yfinance\").to_df()\n",
    "df_monthly.tail(2)\n"
   ]
  },
  {
   "cell_type": "markdown",
   "metadata": {},
   "source": [
    "#### Resample a Time Series\n",
    "\n",
    "`yfinance` returns the monthly data for the first day of each month.  Let's resample it to take from the last, using the daily information captured in the previous cells."
   ]
  },
  {
   "cell_type": "code",
   "execution_count": null,
   "metadata": {},
   "outputs": [],
   "source": [
    "(\n",
    "    df_daily[[\"open\", \"high\", \"low\", \"close\", \"volume\"]]\n",
    "    .resample(\"M\")\n",
    "    .agg(\n",
    "        {\"open\": \"first\", \"high\": \"max\", \"low\": \"min\", \"close\": \"last\", \"volume\": \"sum\"}\n",
    "    )\n",
    ")\n"
   ]
  },
  {
   "attachments": {},
   "cell_type": "markdown",
   "metadata": {},
   "source": [
    "The block below packs an object with most intervals."
   ]
  },
  {
   "cell_type": "code",
   "execution_count": null,
   "metadata": {},
   "outputs": [],
   "source": [
    "class HistoricalPrices:\n",
    "    def __init__(self, symbol, start_date, end_date, provider, **kwargs) -> None:\n",
    "        self.one: pd.DataFrame = obb.equity.price.historical(\n",
    "            symbol=symbol, start_date=start_date, end_date=end_date, interval = \"1m\", provider=provider, **kwargs\n",
    "        ).to_df().convert_dtypes()\n",
    "        self.five: pd.DataFrame = obb.equity.price.historical(\n",
    "            symbol=symbol, start_date=start_date, end_date=end_date, interval = \"5m\", provider=provider, **kwargs\n",
    "        ).to_df().convert_dtypes()\n",
    "        self.fifteen: pd.DataFrame = obb.equity.price.historical(\n",
    "            symbol=symbol, start_date=start_date, end_date=end_date, interval = \"15m\", provider=provider, **kwargs\n",
    "        ).to_df().convert_dtypes()\n",
    "        self.thirty: pd.DataFrame = obb.equity.price.historical(\n",
    "            symbol=symbol, start_date=start_date, end_date=end_date, interval = \"30m\", provider=provider, **kwargs\n",
    "        ).to_df().convert_dtypes()\n",
    "        self.sixty: pd.DataFrame = obb.equity.price.historical(\n",
    "            symbol=symbol, start_date=start_date, end_date=end_date, interval = \"60m\", provider=provider, **kwargs\n",
    "        ).to_df().convert_dtypes()\n",
    "        self.daily: pd.DataFrame = obb.equity.price.historical(\n",
    "            symbol=symbol, start_date=start_date, end_date=end_date, interval = \"1d\", provider=provider, **kwargs\n",
    "        ).to_df().convert_dtypes()\n",
    "        self.weekly: pd.DataFrame = obb.equity.price.historical(\n",
    "            symbol=symbol, start_date=start_date, end_date=end_date, interval = \"1W\", provider=provider, **kwargs\n",
    "        ).to_df().convert_dtypes()\n",
    "        self.monthly: pd.DataFrame = obb.equity.price.historical(\n",
    "            symbol=symbol, start_date=start_date, end_date=end_date, interval = \"1M\", provider=provider, **kwargs\n",
    "        ).to_df().convert_dtypes()\n",
    "\n",
    "def load_historical(\n",
    "    symbol: str = \"\",\n",
    "    start_date = None,\n",
    "    end_date = None,\n",
    "    provider = None,\n",
    "    **kwargs\n",
    ") -> HistoricalPrices:\n",
    "\n",
    "    if symbol == \"\":\n",
    "        display(\"Please enter a ticker symbol\")\n",
    "    if provider is None:\n",
    "        provider = \"yfinance\"\n",
    "    prices = HistoricalPrices(symbol, start_date, end_date, provider, **kwargs)\n",
    "\n",
    "    return prices\n",
    "\n",
    "prices = load_historical(\"spy\")\n",
    "display(prices.__dict__.keys())\n",
    "prices.weekly.tail(2)\n"
   ]
  },
  {
   "attachments": {},
   "cell_type": "markdown",
   "metadata": {},
   "source": [
    "To demonstrate the difference between sources, let's compare values for daily volume from several sources."
   ]
  },
  {
   "cell_type": "code",
   "execution_count": null,
   "metadata": {},
   "outputs": [],
   "source": [
    "# Collect the data\n",
    "\n",
    "yahoo = obb.equity.price.historical(\"spy\", provider=\"yfinance\").to_df()\n",
    "alphavantage = obb.equity.price.historical(\"spy\", provider = \"alpha_vantage\").to_df()\n",
    "intrinio = obb.equity.price.historical(\"spy\", provider=\"intrinio\").to_df()\n",
    "fmp = obb.equity.price.historical(\"spy\", provider=\"fmp\").to_df()\n",
    "\n",
    "# Make a new DataFrame with just the volume columns\n",
    "compare = pd.DataFrame()\n",
    "compare[\"AV Volume\"] = alphavantage[\"volume\"].tail(10)\n",
    "compare[\"FMP Volume\"] = fmp[\"volume\"].tail(10)\n",
    "compare[\"Intrinio Volume\"] = intrinio[\"volume\"].tail(10)\n",
    "compare[\"Yahoo Volume\"] = yahoo[\"volume\"].tail(10)\n",
    "\n",
    "compare\n"
   ]
  },
  {
   "attachments": {},
   "cell_type": "markdown",
   "metadata": {},
   "source": [
    "## Other Types of Symbols\n",
    "\n",
    "Other types of assets and ticker symbols can be loaded from `obb.equity.price.historical()`, below are some examples but not an exhaustive list.\n",
    "\n",
    "### Share Classes\n",
    "\n",
    "Some sources use `-` as the distinction between a share class, e.g., `BRK-A` and `BRK-B`. Other formats include:\n",
    "\n",
    "- A period: `BRK.A`\n",
    "- A slash: `BRK/A`\n",
    "- No separator, the share class becomes the fourth or fifth letter.\n",
    "\n",
    "```python\n",
    "obb.equity.price.historical(\"brk.b\", provider=\"polygon\")\n",
    "```\n",
    "\n",
    "```python\n",
    "obb.equity.price.historical(\"brk-b\", provider=\"fmp\")\n",
    "```\n",
    "\n",
    "While some providers handle the different formats on their end, others do not. This is something to consider when no results are returned from one source. Some may even use a combination, or accept multiple variations. Sometimes there is no real logic behind the additional characters, `GOOGL` vs. `GOOG`. These are known unknown variables of ticker symbology, what's good for one source may return errors from another. \n",
    "\n",
    "### Regional Identifiers\n",
    "\n",
    "With providers supporting market data from multiple jurisdictions, the most common method for requesting data outside of US-listings is to append a suffix to the ticker symbol (e.g., `RELIANCE.NS` for Indian equities). Formats may be unique to a provider, so it is best to review the source's documentation for an overview of their specific conventions. [This page](https://help.yahoo.com/kb/SLN2310.html) on Yahoo describes how they format symbols, which many others follow to some degree.\n",
    "\n",
    "### Indexes\n",
    "\n",
    "Sources will have their own treatment of these symbols, some examples are:\n",
    "\n",
    "- YahooFinance/FMP/CBOE: ^RUT\n",
    "- Polygon: I:NDX\n",
    "\n",
    "### Currencies\n",
    "\n",
    "FX symbols face the same dilemna as share classes, there are several variations of the same symbol.\n",
    "\n",
    "- YahooFinance: `EURUSD=X`\n",
    "- Polygon: `C:EURUSD`\n",
    "- AlphaVantage/FMP: `EURUSD`\n",
    "\n",
    "**The symbol prefixes are handled internally when `obb.currency.price.historical()` is used to enter a pair with no extra characters.**\n",
    "\n",
    "### Crypto\n",
    "\n",
    "Similar, but different to FX tickers.\n",
    "\n",
    "- YahooFinance: `BTC-USD`\n",
    "- Polygon: `X:BTCUSD`\n",
    "- AlphaVantage/FMP: `BTCUSD`\n",
    "\n",
    "**The symbol prefixes are handled internally when `obb.crypto.price.historical()` is used to enter a pair with no extra characters and placing the fiat currency second.**\n",
    "\n",
    "### Futures\n",
    "\n",
    "Historical prices for active contracts, and the continuation chart, can be fetched via `yfinance`.\n",
    "\n",
    "- Continuous front-month: `CL=F`\n",
    "- December 2023 contract: `CLZ24.NYM`\n",
    "- March 2024 contract: `CLH24.NYM`\n",
    "\n",
    "Individual contracts will require knowing which of the CME venues the future is listed on. `[\"NYM\", \"NYB\", \"CME\", \"CBT\"]`.\n",
    "\n",
    "### Options\n",
    "\n",
    "Individual options contracts are also loadable from `openbb.equity.price.historical()`.\n",
    "\n",
    "- YahooFinance: `SPY241220P00400000`\n",
    "- Polygon: `O:SPY241220P00400000`"
   ]
  },
  {
   "attachments": {},
   "cell_type": "markdown",
   "metadata": {},
   "source": [
    "These examples represent only a few methods for fetching historical price data.  Explore the contents of each module to find more!"
   ]
  },
  {
   "cell_type": "code",
   "execution_count": null,
   "metadata": {},
   "outputs": [],
   "source": [
    "obb.equity.price.historical(\"SPY241220P00400000\", provider=\"yfinance\").to_df()\n"
   ]
  },
  {
   "cell_type": "code",
   "execution_count": null,
   "metadata": {},
   "outputs": [],
   "source": [
    "obb.equity.price.historical(\"^RUT\", provider=\"cboe\").to_df()\n"
   ]
  },
  {
   "cell_type": "code",
   "execution_count": null,
   "metadata": {},
   "outputs": [],
   "source": [
    "obb.equity.price.historical(\"^RUT\", provider=\"fmp\").to_df()\n"
   ]
  },
  {
   "cell_type": "code",
   "execution_count": null,
   "metadata": {},
   "outputs": [],
   "source": [
    "obb.equity.price.historical(\"CLZ24.NYM\", provider=\"yfinance\").to_df()\n"
   ]
  },
  {
   "cell_type": "code",
   "execution_count": null,
   "metadata": {},
   "outputs": [],
   "source": [
    "obb.equity.price.historical(\"CL=F\", provider=\"fmp\").to_df()\n"
   ]
  }
 ],
 "metadata": {
  "kernelspec": {
   "display_name": "obb",
   "language": "python",
   "name": "python3"
  },
  "language_info": {
   "codemirror_mode": {
    "name": "ipython",
    "version": 3
   },
   "file_extension": ".py",
   "mimetype": "text/x-python",
   "name": "python",
   "nbconvert_exporter": "python",
   "pygments_lexer": "ipython3",
   "version": "3.11.4"
  }
 },
 "nbformat": 4,
 "nbformat_minor": 2
}
